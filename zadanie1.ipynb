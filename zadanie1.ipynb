{
 "cells": [
  {
   "cell_type": "markdown",
   "metadata": {},
   "source": [
    "Przygotowanie środowiska"
   ]
  },
  {
   "cell_type": "code",
   "execution_count": 61,
   "metadata": {},
   "outputs": [],
   "source": [
    "import pandas as pd\n",
    "import matplotlib.pyplot as plt\n",
    "plt.rc('figure', figsize=(6, 6))"
   ]
  },
  {
   "cell_type": "markdown",
   "metadata": {},
   "source": [
    "Zaczytanie danych, wybór kolumn przy ładowaniu"
   ]
  },
  {
   "cell_type": "code",
   "execution_count": 62,
   "metadata": {},
   "outputs": [],
   "source": [
    "fields = ['P_ROKDYP',\"P_N\",\"P_POZIOM\", # wartosci filtrujace\n",
    "\"P_E_ZAR_STUD_P5\",\"P_E_ZAR_NSTUD_P5\",\"P_E_ZAR_P5\", #dane o zarobkach absolwentow po 5 latach\n",
    "\"P_E_ZAR_DOSW_P5\",\"P_E_ZAR_NDOSW_P5\",\n",
    "\"P_ME_ZAR_P5\",\"P_ME_ZAR_DOSW_P5\",\"P_ME_ZAR_NDOSW_P5\",\n",
    "\"P_ME_ZAR_STUD_P5\",\"P_ME_ZAR_NSTUD_P5\",\n",
    "\"P_E_ZAR_ETAT_P5\",\"P_E_ZAR_ETAT_DOSW_P5\",\"P_E_ZAR_ETAT_NDOSW_P5\",\n",
    "\"P_E_ZAR_ETAT_STUD_P5\",\"P_E_ZAR_ETAT_NSTUD_P5\",\n",
    "\"P_ME_ZAR_ETAT_P5\",\"P_ME_ZAR_ETAT_DOSW_P5\",\"P_ME_ZAR_ETAT_NDOSW_P5\",\n",
    "\"P_ME_ZAR_ETAT_STUD_P5\",\"P_ME_ZAR_ETAT_NSTUD_P5\",\n",
    "\"P_WWZ_STUD_P5\",\"P_WWZ_NSTUD_P5\",\"P_WWZ_P5\",\"P_WWZ_DOSW_P5\",\"P_WWZ_NDOSW_P5\",\n",
    "'P_NAZWA_UCZELNI',\"P_NAZWA_KIERUNKU_PELNA\",\"P_KIERUNEK_ID\",\"P_FORMA\",\"P_DZIEDZINA\",\"P_WOJ\"] #dane o uczelni i kierunku\n",
    "data1 = pd.read_csv('dane/graduates-major-data.csv',sep=\";\",usecols=fields,decimal=',')"
   ]
  },
  {
   "cell_type": "markdown",
   "metadata": {},
   "source": [
    "Redukcja pamieci"
   ]
  },
  {
   "cell_type": "code",
   "execution_count": 63,
   "metadata": {},
   "outputs": [
    {
     "name": "stdout",
     "output_type": "stream",
     "text": [
      "<class 'pandas.core.frame.DataFrame'>\n",
      "RangeIndex: 41792 entries, 0 to 41791\n",
      "Data columns (total 34 columns):\n",
      " #   Column                  Non-Null Count  Dtype   \n",
      "---  ------                  --------------  -----   \n",
      " 0   P_ROKDYP                41792 non-null  int16   \n",
      " 1   P_KIERUNEK_ID           41792 non-null  int32   \n",
      " 2   P_POZIOM                41792 non-null  category\n",
      " 3   P_FORMA                 41792 non-null  object  \n",
      " 4   P_N                     41792 non-null  int16   \n",
      " 5   P_E_ZAR_STUD_P5         2736 non-null   float64 \n",
      " 6   P_E_ZAR_NSTUD_P5        7194 non-null   float64 \n",
      " 7   P_E_ZAR_P5              14190 non-null  float64 \n",
      " 8   P_E_ZAR_DOSW_P5         9247 non-null   float64 \n",
      " 9   P_E_ZAR_NDOSW_P5        10511 non-null  float64 \n",
      " 10  P_ME_ZAR_STUD_P5        2736 non-null   float64 \n",
      " 11  P_ME_ZAR_NSTUD_P5       7194 non-null   float64 \n",
      " 12  P_ME_ZAR_P5             14190 non-null  float64 \n",
      " 13  P_ME_ZAR_DOSW_P5        9247 non-null   float64 \n",
      " 14  P_ME_ZAR_NDOSW_P5       10511 non-null  float64 \n",
      " 15  P_E_ZAR_ETAT_STUD_P5    2484 non-null   float64 \n",
      " 16  P_E_ZAR_ETAT_NSTUD_P5   7182 non-null   float64 \n",
      " 17  P_E_ZAR_ETAT_P5         14177 non-null  float64 \n",
      " 18  P_E_ZAR_ETAT_DOSW_P5    8895 non-null   float64 \n",
      " 19  P_E_ZAR_ETAT_NDOSW_P5   10013 non-null  float64 \n",
      " 20  P_ME_ZAR_ETAT_STUD_P5   2484 non-null   float64 \n",
      " 21  P_ME_ZAR_ETAT_NSTUD_P5  7182 non-null   float64 \n",
      " 22  P_ME_ZAR_ETAT_P5        14177 non-null  float64 \n",
      " 23  P_ME_ZAR_ETAT_DOSW_P5   8895 non-null   float64 \n",
      " 24  P_ME_ZAR_ETAT_NDOSW_P5  10013 non-null  float64 \n",
      " 25  P_WWZ_STUD_P5           2736 non-null   float64 \n",
      " 26  P_WWZ_NSTUD_P5          7194 non-null   float64 \n",
      " 27  P_WWZ_P5                14190 non-null  float64 \n",
      " 28  P_WWZ_DOSW_P5           9247 non-null   float64 \n",
      " 29  P_WWZ_NDOSW_P5          10511 non-null  float64 \n",
      " 30  P_NAZWA_UCZELNI         41792 non-null  object  \n",
      " 31  P_DZIEDZINA             41660 non-null  object  \n",
      " 32  P_NAZWA_KIERUNKU_PELNA  41792 non-null  object  \n",
      " 33  P_WOJ                   41746 non-null  float64 \n",
      "dtypes: category(1), float64(26), int16(2), int32(1), object(4)\n",
      "memory usage: 9.9+ MB\n"
     ]
    }
   ],
   "source": [
    "# drobna redukcja pamieci na kolumnach o pewnych wartosciach\n",
    "data1[\"P_ROKDYP\"] = data1[\"P_ROKDYP\"].astype('int16')\n",
    "data1[\"P_KIERUNEK_ID\"] = data1[\"P_KIERUNEK_ID\"].astype('int32')\n",
    "data1[\"P_N\"] = data1[\"P_N\"].astype('int16')\n",
    "data1[\"P_POZIOM\"] =data1[\"P_POZIOM\"].astype(\"category\")\n",
    "# problem z zamiana P_FORMA, przy grupowaniu powoduje memmory leak\n",
    "# data1[\"P_FORMA\"] =data1[\"P_POZIOM\"].astype(\"category\")\n",
    "data1.info()"
   ]
  },
  {
   "cell_type": "markdown",
   "metadata": {},
   "source": [
    "Filtrowanie studentow po studiach magisterskich z 2014 i 2015 roku"
   ]
  },
  {
   "cell_type": "code",
   "execution_count": 64,
   "metadata": {},
   "outputs": [],
   "source": [
    "# dane o absolwentach z roku 2014 i 2015 roku \n",
    "data1 = data1[(data1['P_ROKDYP']==2014) | (data1['P_ROKDYP']==2015)]\n",
    "# studia magisterskie lub jednolitemagisterskie\n",
    "data1 = data1[(data1['P_POZIOM']==\"JM\") | (data1['P_POZIOM']==\"2\")]"
   ]
  },
  {
   "cell_type": "markdown",
   "metadata": {},
   "source": [
    "Sprawdzenie pustych wartosci"
   ]
  },
  {
   "cell_type": "code",
   "execution_count": 65,
   "metadata": {},
   "outputs": [
    {
     "data": {
      "text/plain": [
       "P_E_ZAR_STUD_P5           5013\n",
       "P_E_ZAR_NSTUD_P5          3032\n",
       "P_E_ZAR_P5                  16\n",
       "P_E_ZAR_DOSW_P5           1541\n",
       "P_E_ZAR_NDOSW_P5          1313\n",
       "P_ME_ZAR_STUD_P5          5013\n",
       "P_ME_ZAR_NSTUD_P5         3032\n",
       "P_ME_ZAR_P5                 16\n",
       "P_ME_ZAR_DOSW_P5          1541\n",
       "P_ME_ZAR_NDOSW_P5         1313\n",
       "P_E_ZAR_ETAT_STUD_P5      5097\n",
       "P_E_ZAR_ETAT_NSTUD_P5     3037\n",
       "P_E_ZAR_ETAT_P5             22\n",
       "P_E_ZAR_ETAT_DOSW_P5      1677\n",
       "P_E_ZAR_ETAT_NDOSW_P5     1492\n",
       "P_ME_ZAR_ETAT_STUD_P5     5097\n",
       "P_ME_ZAR_ETAT_NSTUD_P5    3037\n",
       "P_ME_ZAR_ETAT_P5            22\n",
       "P_ME_ZAR_ETAT_DOSW_P5     1677\n",
       "P_ME_ZAR_ETAT_NDOSW_P5    1492\n",
       "P_WWZ_STUD_P5             5013\n",
       "P_WWZ_NSTUD_P5            3032\n",
       "P_WWZ_P5                    16\n",
       "P_WWZ_DOSW_P5             1541\n",
       "P_WWZ_NDOSW_P5            1313\n",
       "P_DZIEDZINA                 21\n",
       "dtype: int64"
      ]
     },
     "execution_count": 65,
     "metadata": {},
     "output_type": "execute_result"
    }
   ],
   "source": [
    "# duzo pustych wartosci jesli chodzi o informacje \n",
    "##### zastanowic sie nad wyborem\n",
    "# -P_E_ZAR_P5, P_ME_ZAR_P5, P_WWZ_P5, maja najmniej brakujacych informacji\n",
    "# P_E_ZAR_ETAT_P5,P_ME_ZAR_ETAT_P5\n",
    "nullvalues = data1.isna().sum()\n",
    "nullvalues[nullvalues > 0]"
   ]
  },
  {
   "cell_type": "markdown",
   "metadata": {},
   "source": [
    "Zgrupowanie danych o kierunkach z 2014 i 2015, dodanie wojewodztw tekstowych do badan"
   ]
  },
  {
   "cell_type": "code",
   "execution_count": 66,
   "metadata": {},
   "outputs": [],
   "source": [
    "# zgrupowanie po kierunku na uczelni z podzialem na stacjonarne i niestacjonarne,\n",
    "# liczba osob na kierunku zsumowana z lat 2014 i 2015, średnia płaca roczników uśredniona\n",
    "# \"P_DZIEDZINA\",\"P_WOJ\"\n",
    "data1 = data1.groupby([\"P_NAZWA_UCZELNI\",\"P_KIERUNEK_ID\",\"P_NAZWA_KIERUNKU_PELNA\",\"P_FORMA\",\"P_DZIEDZINA\",\"P_WOJ\"]).agg({\n",
    "    \"P_N\" :'sum',\"P_E_ZAR_P5\":'mean',\"P_ME_ZAR_P5\":'mean',\"P_E_ZAR_ETAT_P5\":'mean',\"P_ME_ZAR_ETAT_P5\":'mean',\"P_ME_ZAR_P5\":'mean',\"P_WWZ_P5\":'mean'\n",
    "})"
   ]
  },
  {
   "cell_type": "code",
   "execution_count": 67,
   "metadata": {},
   "outputs": [],
   "source": [
    "# wybranie kierunkow posiadajacych conajmniej 30 absolwentow\n",
    "data1 = data1[(data1['P_N']>=30)].reset_index()\n",
    "# przypisanie wartosciom numerycznym wojewodztw wartosci tekstowe\n",
    "wojewodztwa = {\n",
    "    14:\"Mazowieckie\", 12:\"Małopolskie\", 24:\"Śląskie\",30:\"Wielkopolskie\",\n",
    "    2:\"Dolnoślaśkie\",22:\"Pomorskie\",6:\"Lubelskie\",10:\"Łódzkie\",\n",
    "    4:\"Kujawsko-Pomorskie\",32:\"Zachodniopomorskie\",18:\"Podkarpackie\",\n",
    "    20:\"Podlaskie\",28:\"Warmińsko-mazurskie\",16:\"Opolskie\",\n",
    "    26:\"Świętokrzyskie\", 8:\"Lubuskie\"\n",
    "}\n",
    "data1['P_WOJ']=data1['P_WOJ'].map(wojewodztwa)"
   ]
  },
  {
   "cell_type": "code",
   "execution_count": 68,
   "metadata": {},
   "outputs": [],
   "source": [
    "# DOPISEK DO PREZENTACJI, ILE MAMY DANYCH O STUDENTACH Z 2014, 2015 ORAZ W SUMIE"
   ]
  },
  {
   "cell_type": "markdown",
   "metadata": {},
   "source": [
    "Udział absolwentow stac i niestac w danych"
   ]
  },
  {
   "cell_type": "code",
   "execution_count": 69,
   "metadata": {},
   "outputs": [
    {
     "data": {
      "image/png": "[encoded data removed]",
      "text/plain": [
       "<Figure size 432x432 with 1 Axes>"
      ]
     },
     "metadata": {},
     "output_type": "display_data"
    }
   ],
   "source": [
    "# Suma liczby absolwentow na studiach stacjonarnych i niestacjonarnych\n",
    "formadata = data1.groupby(['P_FORMA']).agg({\"P_N\":\"sum\"})\n",
    "formadata=formadata.reset_index()\n",
    "\n",
    "plt.pie(formadata['P_N'],labels=formadata['P_FORMA'],autopct='%1.1f%%',startangle=-45)\n",
    "plt.legend(['Studia niestacjonarne',\"Studia stacjonarne\"],loc=\"best\")\n",
    "plt.title(\"Forma odbytych studiów przez absolwentów w roku 2014 i 2015\")\n",
    "plt.savefig('Udzial1.png', dpi=400, bbox_inches='tight')\n",
    "plt.show()"
   ]
  },
  {
   "cell_type": "markdown",
   "metadata": {},
   "source": [
    "Udzial kierunkow w dziedzinach"
   ]
  },
  {
   "cell_type": "code",
   "execution_count": 99,
   "metadata": {},
   "outputs": [
    {
     "data": {
      "image/png": "[encoded data removed]",
      "text/plain": [
       "<Figure size 720x360 with 1 Axes>"
      ]
     },
     "metadata": {
      "needs_background": "light"
     },
     "output_type": "display_data"
    }
   ],
   "source": [
    "# zgrupowanie wedlug dziedziny i zliczenie kierunkow w tej dziedzinie\n",
    "dziedzinadata = data1.groupby([\"P_DZIEDZINA\"])['P_N'].sum().sort_values(ascending=True)\n",
    "dziedzinadata = dziedzinadata.reset_index()\n",
    "dziedzinadata[\"P_N\"] = dziedzinadata[\"P_N\"] / dziedzinadata[\"P_N\"].sum()\n",
    "plt.figure(figsize=(10,5))\n",
    "bars = plt.barh(y=dziedzinadata['P_DZIEDZINA'],width=dziedzinadata[\"P_N\"])\n",
    "plt.title(\"Popularność dziedziny nauk absolwentów w roku 2014 i 2015\")\n",
    "plt.bar_label(bars,labels=[f'{x:.2%}' for x in bars.datavalues],padding=5)\n",
    "plt.xlabel(\"Studenci w dziedzinie\")\n",
    "plt.xticks([0,.2,.4,.6,.8,1],labels=[\"0 %\",\"20 %\",\"40 %\",\"60 %\",\"80 %\",\"100 %\"])\n",
    "plt.xlim(right=.6)\n",
    "plt.grid(False)\n",
    "plt.savefig('PopularnoscDziedzina.png', dpi=400, bbox_inches='tight')\n",
    "plt.show()"
   ]
  },
  {
   "cell_type": "code",
   "execution_count": 71,
   "metadata": {},
   "outputs": [
    {
     "data": {
      "image/png": "[encoded data removed]",
      "text/plain": [
       "<Figure size 720x360 with 1 Axes>"
      ]
     },
     "metadata": {
      "needs_background": "light"
     },
     "output_type": "display_data"
    }
   ],
   "source": [
    "plt.figure(figsize=(10,5))\n",
    "plt.hist(x=data1['P_E_ZAR_P5'],bins=40)\n",
    "plt.title(\"Rozkład średnich zarobków absolwentów roku 2014 i 2015\")\n",
    "plt.xlabel(\"Zarobki\")\n",
    "plt.ylabel(\"Liczba wystąpień\")\n",
    "plt.grid(False)\n",
    "plt.savefig('RozkładZarobkowSr.png', dpi=400, bbox_inches='tight')\n",
    "plt.show()"
   ]
  },
  {
   "cell_type": "code",
   "execution_count": 72,
   "metadata": {},
   "outputs": [
    {
     "data": {
      "text/plain": [
       "75.31516876779179"
      ]
     },
     "execution_count": 72,
     "metadata": {},
     "output_type": "execute_result"
    }
   ],
   "source": [
    "# % absolwentow zarabiających ponizej 6K\n",
    "data1[data1['P_E_ZAR_P5']<5500]['P_E_ZAR_P5'].count() / data1['P_E_ZAR_P5'].count()*100"
   ]
  },
  {
   "cell_type": "code",
   "execution_count": 73,
   "metadata": {},
   "outputs": [
    {
     "data": {
      "image/png": "[encoded data removed]",
      "text/plain": [
       "<Figure size 720x360 with 1 Axes>"
      ]
     },
     "metadata": {
      "needs_background": "light"
     },
     "output_type": "display_data"
    }
   ],
   "source": [
    "plt.figure(figsize=(10,5))\n",
    "plt.hist(x=data1['P_ME_ZAR_P5'],bins=40)\n",
    "plt.title(\"Rozkład median zarobków absolwentów roku 2014 i 2015\")\n",
    "plt.xlabel(\"Zarobki\")\n",
    "plt.ylabel(\"Liczba wystąpień\")\n",
    "plt.grid(False)\n",
    "plt.savefig('RozkładZarobkowMed.png', dpi=400, bbox_inches='tight')\n",
    "plt.show()"
   ]
  },
  {
   "cell_type": "code",
   "execution_count": 74,
   "metadata": {},
   "outputs": [
    {
     "data": {
      "text/plain": [
       "80.39853599023994"
      ]
     },
     "execution_count": 74,
     "metadata": {},
     "output_type": "execute_result"
    }
   ],
   "source": [
    "# % absolwentow zarabiających ponizej 6K\n",
    "data1[data1['P_ME_ZAR_P5']<5500]['P_ME_ZAR_P5'].count() / data1['P_ME_ZAR_P5'].count()*100"
   ]
  },
  {
   "cell_type": "markdown",
   "metadata": {},
   "source": [
    "Średnie zarobki w dziedzinach"
   ]
  },
  {
   "cell_type": "code",
   "execution_count": 75,
   "metadata": {},
   "outputs": [
    {
     "data": {
      "image/png": "[encoded data removed]",
      "text/plain": [
       "<Figure size 720x360 with 1 Axes>"
      ]
     },
     "metadata": {
      "needs_background": "light"
     },
     "output_type": "display_data"
    }
   ],
   "source": [
    "#srednie zarobki w dziedzinach nauk\n",
    "zardziedatasr = data1.groupby(\"P_DZIEDZINA\").agg({\"P_E_ZAR_P5\":'mean'}).sort_values(by=\"P_E_ZAR_P5\",ascending=True)\n",
    "zardziedatasr = zardziedatasr.reset_index()\n",
    "\n",
    "plt.figure(figsize=(10,5))\n",
    "bars = plt.barh(y=zardziedatasr['P_DZIEDZINA'],width=zardziedatasr[\"P_E_ZAR_P5\"])\n",
    "plt.title(\"Średnie zarobki według dziedziny nauk absolwentów roku 2014 i 2015\")\n",
    "plt.bar_label(bars,padding=5)\n",
    "plt.xlim(right=6800)\n",
    "plt.grid(False)\n",
    "plt.xlabel(\"Zarobki\")\n",
    "plt.savefig('ZarobkiWdziedzinachSr.png', dpi=400, bbox_inches='tight')\n",
    "plt.show()"
   ]
  },
  {
   "cell_type": "markdown",
   "metadata": {},
   "source": [
    "Mediana zarobków w dziedzinach"
   ]
  },
  {
   "cell_type": "code",
   "execution_count": 76,
   "metadata": {},
   "outputs": [
    {
     "data": {
      "image/png": "[encoded data removed]",
      "text/plain": [
       "<Figure size 720x360 with 1 Axes>"
      ]
     },
     "metadata": {
      "needs_background": "light"
     },
     "output_type": "display_data"
    }
   ],
   "source": [
    "#srednie zarobki w dziedzinach nauk\n",
    "zardziedatamed = data1.groupby(\"P_DZIEDZINA\").agg({\"P_ME_ZAR_P5\":'mean'}).sort_values(by=\"P_ME_ZAR_P5\",ascending=True)\n",
    "zardziedatamed = zardziedatamed.reset_index()\n",
    "\n",
    "plt.figure(figsize=(10,5))\n",
    "bars = plt.barh(y=zardziedatamed['P_DZIEDZINA'],width=zardziedatamed[\"P_ME_ZAR_P5\"])\n",
    "plt.title(\"Mediana zarobków według dziedziny nauk absolwentów roku 2014 i 2015\")\n",
    "plt.bar_label(bars,padding=5)\n",
    "plt.xlim(right=6800)\n",
    "plt.grid(False)\n",
    "plt.xlabel(\"Zarobki\")\n",
    "plt.savefig('ZarobkiWdziedzinachMed.png', dpi=400, bbox_inches='tight')\n",
    "plt.show()"
   ]
  },
  {
   "cell_type": "markdown",
   "metadata": {},
   "source": [
    "Najlepsze Wojewodztwa zarobki średnia"
   ]
  },
  {
   "cell_type": "code",
   "execution_count": 77,
   "metadata": {},
   "outputs": [
    {
     "data": {
      "text/html": [
       "<div>\n",
       "<style scoped>\n",
       "    .dataframe tbody tr th:only-of-type {\n",
       "        vertical-align: middle;\n",
       "    }\n",
       "\n",
       "    .dataframe tbody tr th {\n",
       "        vertical-align: top;\n",
       "    }\n",
       "\n",
       "    .dataframe thead th {\n",
       "        text-align: right;\n",
       "    }\n",
       "</style>\n",
       "<table border=\"1\" class=\"dataframe\">\n",
       "  <thead>\n",
       "    <tr style=\"text-align: right;\">\n",
       "      <th></th>\n",
       "      <th>Wojewodztwo</th>\n",
       "      <th>Nazwa uczelni</th>\n",
       "      <th>Nazwa kierunku</th>\n",
       "      <th>Średnie zarobki</th>\n",
       "    </tr>\n",
       "  </thead>\n",
       "  <tbody>\n",
       "    <tr>\n",
       "      <th>1</th>\n",
       "      <td>Małopolskie</td>\n",
       "      <td>Akademia Górniczo-Hutnicza im. Stanisława Stas...</td>\n",
       "      <td>Informatyka, studia stacjonarne drugiego stopn...</td>\n",
       "      <td>14338.935</td>\n",
       "    </tr>\n",
       "    <tr>\n",
       "      <th>2</th>\n",
       "      <td>Mazowieckie</td>\n",
       "      <td>Polsko-Japońska Akademia Technik Komputerowych</td>\n",
       "      <td>Informatyka, studia niestacjonarne drugiego st...</td>\n",
       "      <td>13197.790</td>\n",
       "    </tr>\n",
       "    <tr>\n",
       "      <th>3</th>\n",
       "      <td>Dolnoślaśkie</td>\n",
       "      <td>Uniwersytet Ekonomiczny we Wrocławiu</td>\n",
       "      <td>Zarządzanie, studia niestacjonarne drugiego st...</td>\n",
       "      <td>12243.630</td>\n",
       "    </tr>\n",
       "    <tr>\n",
       "      <th>4</th>\n",
       "      <td>Pomorskie</td>\n",
       "      <td>Politechnika Gdańska</td>\n",
       "      <td>Informatyka, studia stacjonarne drugiego stopn...</td>\n",
       "      <td>12109.150</td>\n",
       "    </tr>\n",
       "    <tr>\n",
       "      <th>5</th>\n",
       "      <td>Wielkopolskie</td>\n",
       "      <td>Politechnika Poznańska</td>\n",
       "      <td>Informatyka, studia stacjonarne drugiego stopn...</td>\n",
       "      <td>10966.305</td>\n",
       "    </tr>\n",
       "  </tbody>\n",
       "</table>\n",
       "</div>"
      ],
      "text/plain": [
       "     Wojewodztwo                                      Nazwa uczelni  \\\n",
       "1    Małopolskie  Akademia Górniczo-Hutnicza im. Stanisława Stas...   \n",
       "2    Mazowieckie     Polsko-Japońska Akademia Technik Komputerowych   \n",
       "3   Dolnoślaśkie               Uniwersytet Ekonomiczny we Wrocławiu   \n",
       "4      Pomorskie                               Politechnika Gdańska   \n",
       "5  Wielkopolskie                             Politechnika Poznańska   \n",
       "\n",
       "                                      Nazwa kierunku  Średnie zarobki  \n",
       "1  Informatyka, studia stacjonarne drugiego stopn...        14338.935  \n",
       "2  Informatyka, studia niestacjonarne drugiego st...        13197.790  \n",
       "3  Zarządzanie, studia niestacjonarne drugiego st...        12243.630  \n",
       "4  Informatyka, studia stacjonarne drugiego stopn...        12109.150  \n",
       "5  Informatyka, studia stacjonarne drugiego stopn...        10966.305  "
      ]
     },
     "execution_count": 77,
     "metadata": {},
     "output_type": "execute_result"
    }
   ],
   "source": [
    "bestinwojsr = data1.groupby([\"P_WOJ\"])[\"P_E_ZAR_P5\"].transform(max)==data1['P_E_ZAR_P5']\n",
    "bestinwojsr = data1[bestinwojsr].sort_values(\"P_E_ZAR_P5\",ascending=False).reset_index()\n",
    "bestinwojsr.index+=1\n",
    "bestinwojsr=bestinwojsr.iloc[:,[6,1,3,8]].rename(columns={\n",
    "    \"P_WOJ\":\"Wojewodztwo\",\n",
    "    \"P_NAZWA_UCZELNI\":'Nazwa uczelni',\n",
    "    \"P_NAZWA_KIERUNKU_PELNA\":\"Nazwa kierunku\",\n",
    "    \"P_E_ZAR_P5\":\"Średnie zarobki\"})\n",
    "bestinwojsr.to_excel(\"bestinwojsr.xlsx\")\n",
    "bestinwojsr.head() #dla podgladu"
   ]
  },
  {
   "cell_type": "markdown",
   "metadata": {},
   "source": [
    "Najlepsze Wojewodztwa zarobki mediana"
   ]
  },
  {
   "cell_type": "code",
   "execution_count": 78,
   "metadata": {},
   "outputs": [
    {
     "data": {
      "text/html": [
       "<div>\n",
       "<style scoped>\n",
       "    .dataframe tbody tr th:only-of-type {\n",
       "        vertical-align: middle;\n",
       "    }\n",
       "\n",
       "    .dataframe tbody tr th {\n",
       "        vertical-align: top;\n",
       "    }\n",
       "\n",
       "    .dataframe thead th {\n",
       "        text-align: right;\n",
       "    }\n",
       "</style>\n",
       "<table border=\"1\" class=\"dataframe\">\n",
       "  <thead>\n",
       "    <tr style=\"text-align: right;\">\n",
       "      <th></th>\n",
       "      <th>Wojewodztwo</th>\n",
       "      <th>Nazwa uczelni</th>\n",
       "      <th>Nazwa kierunku</th>\n",
       "      <th>Mediana zarobków</th>\n",
       "    </tr>\n",
       "  </thead>\n",
       "  <tbody>\n",
       "    <tr>\n",
       "      <th>1</th>\n",
       "      <td>Małopolskie</td>\n",
       "      <td>Akademia Górniczo-Hutnicza im. Stanisława Stas...</td>\n",
       "      <td>Informatyka, studia stacjonarne drugiego stopn...</td>\n",
       "      <td>15177.510</td>\n",
       "    </tr>\n",
       "    <tr>\n",
       "      <th>2</th>\n",
       "      <td>Mazowieckie</td>\n",
       "      <td>Polsko-Japońska Akademia Technik Komputerowych</td>\n",
       "      <td>Informatyka, studia niestacjonarne drugiego st...</td>\n",
       "      <td>13586.030</td>\n",
       "    </tr>\n",
       "    <tr>\n",
       "      <th>3</th>\n",
       "      <td>Pomorskie</td>\n",
       "      <td>Politechnika Gdańska</td>\n",
       "      <td>Informatyka, studia stacjonarne drugiego stopn...</td>\n",
       "      <td>12618.515</td>\n",
       "    </tr>\n",
       "    <tr>\n",
       "      <th>4</th>\n",
       "      <td>Warmińsko-mazurskie</td>\n",
       "      <td>Uniwersytet Warmińsko-Mazurski w Olsztynie</td>\n",
       "      <td>Kierunek lekarski, stacjonarne jednolite studi...</td>\n",
       "      <td>10247.810</td>\n",
       "    </tr>\n",
       "    <tr>\n",
       "      <th>5</th>\n",
       "      <td>Wielkopolskie</td>\n",
       "      <td>Politechnika Poznańska</td>\n",
       "      <td>Informatyka, studia stacjonarne drugiego stopn...</td>\n",
       "      <td>10137.650</td>\n",
       "    </tr>\n",
       "  </tbody>\n",
       "</table>\n",
       "</div>"
      ],
      "text/plain": [
       "           Wojewodztwo                                      Nazwa uczelni  \\\n",
       "1          Małopolskie  Akademia Górniczo-Hutnicza im. Stanisława Stas...   \n",
       "2          Mazowieckie     Polsko-Japońska Akademia Technik Komputerowych   \n",
       "3            Pomorskie                               Politechnika Gdańska   \n",
       "4  Warmińsko-mazurskie         Uniwersytet Warmińsko-Mazurski w Olsztynie   \n",
       "5        Wielkopolskie                             Politechnika Poznańska   \n",
       "\n",
       "                                      Nazwa kierunku  Mediana zarobków  \n",
       "1  Informatyka, studia stacjonarne drugiego stopn...         15177.510  \n",
       "2  Informatyka, studia niestacjonarne drugiego st...         13586.030  \n",
       "3  Informatyka, studia stacjonarne drugiego stopn...         12618.515  \n",
       "4  Kierunek lekarski, stacjonarne jednolite studi...         10247.810  \n",
       "5  Informatyka, studia stacjonarne drugiego stopn...         10137.650  "
      ]
     },
     "execution_count": 78,
     "metadata": {},
     "output_type": "execute_result"
    }
   ],
   "source": [
    "bestinwojmed = data1.groupby([\"P_WOJ\"])[\"P_E_ZAR_P5\"].transform(max)==data1['P_E_ZAR_P5']\n",
    "bestinwojmed = data1[bestinwojmed].sort_values(\"P_ME_ZAR_P5\",ascending=False).reset_index()\n",
    "bestinwojmed.index+=1\n",
    "bestinwojmed=bestinwojmed.iloc[:,[6,1,3,9]].rename(columns={\n",
    "    \"P_WOJ\":\"Wojewodztwo\",\n",
    "    \"P_NAZWA_UCZELNI\":'Nazwa uczelni',\n",
    "    \"P_NAZWA_KIERUNKU_PELNA\":\"Nazwa kierunku\",\n",
    "    \"P_ME_ZAR_P5\":\"Mediana zarobków\"})\n",
    "bestinwojmed.to_excel(\"bestinwojmed.xlsx\")\n",
    "bestinwojmed.head() #dla podgladu"
   ]
  },
  {
   "cell_type": "markdown",
   "metadata": {},
   "source": [
    "Najlepsze Polska zarobki średnia"
   ]
  },
  {
   "cell_type": "code",
   "execution_count": 79,
   "metadata": {},
   "outputs": [
    {
     "data": {
      "text/html": [
       "<div>\n",
       "<style scoped>\n",
       "    .dataframe tbody tr th:only-of-type {\n",
       "        vertical-align: middle;\n",
       "    }\n",
       "\n",
       "    .dataframe tbody tr th {\n",
       "        vertical-align: top;\n",
       "    }\n",
       "\n",
       "    .dataframe thead th {\n",
       "        text-align: right;\n",
       "    }\n",
       "</style>\n",
       "<table border=\"1\" class=\"dataframe\">\n",
       "  <thead>\n",
       "    <tr style=\"text-align: right;\">\n",
       "      <th></th>\n",
       "      <th>Nazwa uczelni</th>\n",
       "      <th>Nazwa kierunku</th>\n",
       "      <th>Średnie zarobki</th>\n",
       "    </tr>\n",
       "  </thead>\n",
       "  <tbody>\n",
       "    <tr>\n",
       "      <th>1</th>\n",
       "      <td>Akademia Górniczo-Hutnicza im. Stanisława Stas...</td>\n",
       "      <td>Informatyka, studia stacjonarne drugiego stopn...</td>\n",
       "      <td>14338.935</td>\n",
       "    </tr>\n",
       "    <tr>\n",
       "      <th>2</th>\n",
       "      <td>Akademia Górniczo-Hutnicza im. Stanisława Stas...</td>\n",
       "      <td>Informatyka stosowana, studia stacjonarne drug...</td>\n",
       "      <td>13557.190</td>\n",
       "    </tr>\n",
       "    <tr>\n",
       "      <th>3</th>\n",
       "      <td>Uniwersytet Jagielloński w Krakowie</td>\n",
       "      <td>Informatyka, studia stacjonarne drugiego stopn...</td>\n",
       "      <td>13289.935</td>\n",
       "    </tr>\n",
       "    <tr>\n",
       "      <th>4</th>\n",
       "      <td>Polsko-Japońska Akademia Technik Komputerowych</td>\n",
       "      <td>Informatyka, studia niestacjonarne drugiego st...</td>\n",
       "      <td>13197.790</td>\n",
       "    </tr>\n",
       "    <tr>\n",
       "      <th>5</th>\n",
       "      <td>Politechnika Warszawska</td>\n",
       "      <td>Informatyka, studia stacjonarne drugiego stopn...</td>\n",
       "      <td>13053.660</td>\n",
       "    </tr>\n",
       "  </tbody>\n",
       "</table>\n",
       "</div>"
      ],
      "text/plain": [
       "                                       Nazwa uczelni  \\\n",
       "1  Akademia Górniczo-Hutnicza im. Stanisława Stas...   \n",
       "2  Akademia Górniczo-Hutnicza im. Stanisława Stas...   \n",
       "3                Uniwersytet Jagielloński w Krakowie   \n",
       "4     Polsko-Japońska Akademia Technik Komputerowych   \n",
       "5                            Politechnika Warszawska   \n",
       "\n",
       "                                      Nazwa kierunku  Średnie zarobki  \n",
       "1  Informatyka, studia stacjonarne drugiego stopn...        14338.935  \n",
       "2  Informatyka stosowana, studia stacjonarne drug...        13557.190  \n",
       "3  Informatyka, studia stacjonarne drugiego stopn...        13289.935  \n",
       "4  Informatyka, studia niestacjonarne drugiego st...        13197.790  \n",
       "5  Informatyka, studia stacjonarne drugiego stopn...        13053.660  "
      ]
     },
     "execution_count": 79,
     "metadata": {},
     "output_type": "execute_result"
    }
   ],
   "source": [
    "# 10 najlepszych kierunkow ze wzgleud na srednie zarobki\n",
    "best10sr = data1.sort_values(by=\"P_E_ZAR_P5\",ascending=False).iloc[:10].reset_index()\n",
    "best10sr.index+=1\n",
    "best10sr = best10sr.iloc[:,[1,3,8]].rename(columns={\n",
    "    \"P_NAZWA_UCZELNI\":'Nazwa uczelni',\n",
    "    \"P_NAZWA_KIERUNKU_PELNA\":\"Nazwa kierunku\",\n",
    "    \"P_E_ZAR_P5\":\"Średnie zarobki\"})\n",
    "best10sr.to_excel(\"best10sr.xlsx\")\n",
    "best10sr.head() #dla podgladu"
   ]
  },
  {
   "cell_type": "markdown",
   "metadata": {},
   "source": [
    "Najlepsze Polska zarobki mediana"
   ]
  },
  {
   "cell_type": "code",
   "execution_count": 80,
   "metadata": {},
   "outputs": [
    {
     "data": {
      "text/html": [
       "<div>\n",
       "<style scoped>\n",
       "    .dataframe tbody tr th:only-of-type {\n",
       "        vertical-align: middle;\n",
       "    }\n",
       "\n",
       "    .dataframe tbody tr th {\n",
       "        vertical-align: top;\n",
       "    }\n",
       "\n",
       "    .dataframe thead th {\n",
       "        text-align: right;\n",
       "    }\n",
       "</style>\n",
       "<table border=\"1\" class=\"dataframe\">\n",
       "  <thead>\n",
       "    <tr style=\"text-align: right;\">\n",
       "      <th></th>\n",
       "      <th>Nazwa uczelni</th>\n",
       "      <th>Nazwa kierunku</th>\n",
       "      <th>Mediana zarobków</th>\n",
       "    </tr>\n",
       "  </thead>\n",
       "  <tbody>\n",
       "    <tr>\n",
       "      <th>1</th>\n",
       "      <td>Akademia Górniczo-Hutnicza im. Stanisława Stas...</td>\n",
       "      <td>Informatyka, studia stacjonarne drugiego stopn...</td>\n",
       "      <td>15177.510</td>\n",
       "    </tr>\n",
       "    <tr>\n",
       "      <th>2</th>\n",
       "      <td>Polsko-Japońska Akademia Technik Komputerowych</td>\n",
       "      <td>Informatyka, studia niestacjonarne drugiego st...</td>\n",
       "      <td>14264.420</td>\n",
       "    </tr>\n",
       "    <tr>\n",
       "      <th>3</th>\n",
       "      <td>Politechnika Warszawska</td>\n",
       "      <td>Informatyka, studia stacjonarne drugiego stopn...</td>\n",
       "      <td>14038.355</td>\n",
       "    </tr>\n",
       "    <tr>\n",
       "      <th>4</th>\n",
       "      <td>Polsko-Japońska Akademia Technik Komputerowych</td>\n",
       "      <td>Informatyka, studia niestacjonarne drugiego st...</td>\n",
       "      <td>13586.030</td>\n",
       "    </tr>\n",
       "    <tr>\n",
       "      <th>5</th>\n",
       "      <td>Politechnika Warszawska</td>\n",
       "      <td>Informatyka, studia stacjonarne drugiego stopn...</td>\n",
       "      <td>13216.630</td>\n",
       "    </tr>\n",
       "  </tbody>\n",
       "</table>\n",
       "</div>"
      ],
      "text/plain": [
       "                                       Nazwa uczelni  \\\n",
       "1  Akademia Górniczo-Hutnicza im. Stanisława Stas...   \n",
       "2     Polsko-Japońska Akademia Technik Komputerowych   \n",
       "3                            Politechnika Warszawska   \n",
       "4     Polsko-Japońska Akademia Technik Komputerowych   \n",
       "5                            Politechnika Warszawska   \n",
       "\n",
       "                                      Nazwa kierunku  Mediana zarobków  \n",
       "1  Informatyka, studia stacjonarne drugiego stopn...         15177.510  \n",
       "2  Informatyka, studia niestacjonarne drugiego st...         14264.420  \n",
       "3  Informatyka, studia stacjonarne drugiego stopn...         14038.355  \n",
       "4  Informatyka, studia niestacjonarne drugiego st...         13586.030  \n",
       "5  Informatyka, studia stacjonarne drugiego stopn...         13216.630  "
      ]
     },
     "execution_count": 80,
     "metadata": {},
     "output_type": "execute_result"
    }
   ],
   "source": [
    "# 10 najlepszych kierunkow ze wzgleud na mediane zarobków\n",
    "best10med = data1.sort_values(by=\"P_ME_ZAR_P5\",ascending=False).iloc[:10].reset_index()\n",
    "best10med.index+=1\n",
    "best10med = best10med.iloc[:,[1,3,9]].rename(columns={\n",
    "    \"P_NAZWA_UCZELNI\":'Nazwa uczelni',\n",
    "    \"P_NAZWA_KIERUNKU_PELNA\":\"Nazwa kierunku\",\n",
    "    \"P_ME_ZAR_P5\":\"Mediana zarobków\"\n",
    "    })\n",
    "best10med.to_excel(\"best10med.xlsx\")\n",
    "best10med.head() #dla podgladu"
   ]
  }
 ],
 "metadata": {
  "interpreter": {
   "hash": "ea26efc0bdfc249078c31f95934f87e71e7874c8fcddf5e1fd7caa793a1b99dc"
  },
  "kernelspec": {
   "display_name": "Python 3.7.9 ('SAD')",
   "language": "python",
   "name": "python3"
  },
  "language_info": {
   "codemirror_mode": {
    "name": "ipython",
    "version": 3
   },
   "file_extension": ".py",
   "mimetype": "text/x-python",
   "name": "python",
   "nbconvert_exporter": "python",
   "pygments_lexer": "ipython3",
   "version": "3.7.9"
  },
  "orig_nbformat": 4
 },
 "nbformat": 4,
 "nbformat_minor": 2
}

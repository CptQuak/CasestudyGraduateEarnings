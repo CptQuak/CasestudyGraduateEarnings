{
 "cells": [
  {
   "cell_type": "markdown",
   "metadata": {},
   "source": [
    "Przygotowanie środowiska"
   ]
  },
  {
   "cell_type": "code",
   "execution_count": 4,
   "metadata": {},
   "outputs": [],
   "source": [
    "import pandas as pd\n",
    "import matplotlib as plt"
   ]
  },
  {
   "cell_type": "code",
   "execution_count": 5,
   "metadata": {},
   "outputs": [],
   "source": [
    "fields = ['P_ROKDYP',\"P_N\",\"P_POZIOM\", # wartosci filtrujace\n",
    "\"P_E_ZAR_STUD_P5\",\"P_E_ZAR_NSTUD_P5\",\"P_E_ZAR_P5\", #potencjalne dane o zarobkach absolwentow po 5 latach\n",
    "\"P_E_ZAR_DOSW_P5\",\"P_E_ZAR_NDOSW_P5\",\n",
    "\"P_ME_ZAR_P5\",\"P_ME_ZAR_DOSW_P5\",\"P_ME_ZAR_NDOSW_P5\",\n",
    "\"P_ME_ZAR_STUD_P5\",\"P_ME_ZAR_NSTUD_P5\",\n",
    "\"P_E_ZAR_ETAT_P5\",\"P_E_ZAR_ETAT_DOSW_P5\",\"P_E_ZAR_ETAT_NDOSW_P5\",\n",
    "\"P_E_ZAR_ETAT_STUD_P5\",\"P_E_ZAR_ETAT_NSTUD_P5\",\n",
    "\"P_ME_ZAR_ETAT_P5\",\"P_ME_ZAR_ETAT_DOSW_P5\",\"P_ME_ZAR_ETAT_NDOSW_P5\",\n",
    "\"P_ME_ZAR_ETAT_STUD_P5\",\"P_ME_ZAR_ETAT_NSTUD_P5\",\n",
    "'P_NAZWA_UCZELNI',\"P_NAZWA_KIERUNKU_PELNA\" #dane o uczelni i kierunku\n",
    ",\"P_KIERUNEK_ID\",\"P_FORMA\",\"P_DZIEDZINA\",\"P_WOJ\"] \n",
    "data = pd.read_csv('../dane/graduates-major-data.csv',sep=\";\",usecols=fields,decimal=',')"
   ]
  },
  {
   "cell_type": "markdown",
   "metadata": {},
   "source": [
    "Wstępna filtracja, kierunki z \"informatyka\" w nazwie"
   ]
  },
  {
   "cell_type": "code",
   "execution_count": 6,
   "metadata": {},
   "outputs": [],
   "source": [
    "data = data[data['P_NAZWA_KIERUNKU_PELNA'].str.contains('informatyka',case=False,regex=False)]"
   ]
  },
  {
   "cell_type": "markdown",
   "metadata": {},
   "source": [
    "Zgrupowanie danych\n",
    "stopien studiow -> uczelnia -> kierunek -> forma"
   ]
  },
  {
   "cell_type": "code",
   "execution_count": 7,
   "metadata": {},
   "outputs": [],
   "source": [
    "# stopien studiow -> uczelnia -> kierunek -> forma\n",
    "# P_WOJ dla informacji pozniej\n",
    "data_wages_degree = data.groupby(\n",
    "    [\"P_POZIOM\",\"P_NAZWA_UCZELNI\",\"P_KIERUNEK_ID\",\"P_NAZWA_KIERUNKU_PELNA\",\"P_FORMA\",\"P_DZIEDZINA\",\"P_WOJ\"]\n",
    "    ).agg({\n",
    "    \"P_N\" :'sum',\"P_ME_ZAR_P5\":'mean'\n",
    "}).reset_index()\n",
    "data_wages_degree = data_wages_degree[data_wages_degree[\"P_N\"]>=25]"
   ]
  },
  {
   "cell_type": "code",
   "execution_count": 8,
   "metadata": {},
   "outputs": [],
   "source": [
    "wojewodztwa = {\n",
    "    14:\"Mazowieckie\", 12:\"Małopolskie\", 24:\"Śląskie\",30:\"Wielkopolskie\",\n",
    "    2:\"Dolnoślaśkie\",22:\"Pomorskie\",6:\"Lubelskie\",10:\"Łódzkie\",\n",
    "    4:\"Kujawsko-Pomorskie\",32:\"Zachodniopomorskie\",18:\"Podkarpackie\",\n",
    "    20:\"Podlaskie\",28:\"Warmińsko-mazurskie\",16:\"Opolskie\",\n",
    "    26:\"Świętokrzyskie\", 8:\"Lubuskie\"\n",
    "}\n",
    "data_wages_degree['P_WOJ']=data_wages_degree['P_WOJ'].map(wojewodztwa)\n",
    "data_wages_degree = data_wages_degree.reset_index().drop(columns='index')"
   ]
  },
  {
   "cell_type": "markdown",
   "metadata": {},
   "source": [
    "1/3 z kierunków nie posiada inforamcji o zarobkach"
   ]
  },
  {
   "cell_type": "code",
   "execution_count": 9,
   "metadata": {},
   "outputs": [
    {
     "data": {
      "text/plain": [
       "P_POZIOM                    0\n",
       "P_NAZWA_UCZELNI             0\n",
       "P_KIERUNEK_ID               0\n",
       "P_NAZWA_KIERUNKU_PELNA      0\n",
       "P_FORMA                     0\n",
       "P_DZIEDZINA                 0\n",
       "P_WOJ                       0\n",
       "P_N                         0\n",
       "P_ME_ZAR_P5               214\n",
       "dtype: int64"
      ]
     },
     "execution_count": 9,
     "metadata": {},
     "output_type": "execute_result"
    }
   ],
   "source": [
    "data_wages_degree.isna().sum()"
   ]
  },
  {
   "cell_type": "markdown",
   "metadata": {},
   "source": [
    "Uzupełnienie brakujących wartości będzie polegało na wstawieniu średnich zarobków dla informatyków z danego województwa w zależności od stopnia ukonczonych studiów"
   ]
  },
  {
   "cell_type": "code",
   "execution_count": 10,
   "metadata": {},
   "outputs": [
    {
     "data": {
      "text/html": [
       "<div>\n",
       "<style scoped>\n",
       "    .dataframe tbody tr th:only-of-type {\n",
       "        vertical-align: middle;\n",
       "    }\n",
       "\n",
       "    .dataframe tbody tr th {\n",
       "        vertical-align: top;\n",
       "    }\n",
       "\n",
       "    .dataframe thead th {\n",
       "        text-align: right;\n",
       "    }\n",
       "</style>\n",
       "<table border=\"1\" class=\"dataframe\">\n",
       "  <thead>\n",
       "    <tr style=\"text-align: right;\">\n",
       "      <th></th>\n",
       "      <th>P_WOJ</th>\n",
       "      <th>P_POZIOM</th>\n",
       "      <th>P_ME_ZAR_P5</th>\n",
       "    </tr>\n",
       "  </thead>\n",
       "  <tbody>\n",
       "    <tr>\n",
       "      <th>0</th>\n",
       "      <td>Dolnoślaśkie</td>\n",
       "      <td>1</td>\n",
       "      <td>7347.531304</td>\n",
       "    </tr>\n",
       "    <tr>\n",
       "      <th>1</th>\n",
       "      <td>Dolnoślaśkie</td>\n",
       "      <td>2</td>\n",
       "      <td>9423.585769</td>\n",
       "    </tr>\n",
       "    <tr>\n",
       "      <th>2</th>\n",
       "      <td>Kujawsko-Pomorskie</td>\n",
       "      <td>1</td>\n",
       "      <td>5605.722500</td>\n",
       "    </tr>\n",
       "    <tr>\n",
       "      <th>3</th>\n",
       "      <td>Kujawsko-Pomorskie</td>\n",
       "      <td>2</td>\n",
       "      <td>NaN</td>\n",
       "    </tr>\n",
       "    <tr>\n",
       "      <th>4</th>\n",
       "      <td>Lubelskie</td>\n",
       "      <td>1</td>\n",
       "      <td>5110.387917</td>\n",
       "    </tr>\n",
       "  </tbody>\n",
       "</table>\n",
       "</div>"
      ],
      "text/plain": [
       "                P_WOJ P_POZIOM  P_ME_ZAR_P5\n",
       "0        Dolnoślaśkie        1  7347.531304\n",
       "1        Dolnoślaśkie        2  9423.585769\n",
       "2  Kujawsko-Pomorskie        1  5605.722500\n",
       "3  Kujawsko-Pomorskie        2          NaN\n",
       "4           Lubelskie        1  5110.387917"
      ]
     },
     "execution_count": 10,
     "metadata": {},
     "output_type": "execute_result"
    }
   ],
   "source": [
    "# srednie zarobki w wojewodztwach w zaleznosci od stopnia studiow\n",
    "data_wages_woj = data_wages_degree.groupby([\"P_WOJ\",\"P_POZIOM\"]\n",
    "    ).agg({\"P_ME_ZAR_P5\":'mean'}).reset_index()\n",
    "data_wages_woj.head() # 32 wartosci, dla kuj-pom magisterskich jedyny brak danych"
   ]
  },
  {
   "cell_type": "markdown",
   "metadata": {},
   "source": [
    "uzupelnienie danych o zarobkach"
   ]
  },
  {
   "cell_type": "code",
   "execution_count": 11,
   "metadata": {},
   "outputs": [],
   "source": [
    "import numpy as np\n",
    "# awaryjnie kopia by nie nadpisywac tych nie zmienionych danych\n",
    "data_wages_degree_filled = data_wages_degree.copy()\n",
    "# indexy pustych wierszy\n",
    "missing = data_wages_degree_filled['P_ME_ZAR_P5'].isna()\n",
    "\n",
    "# zmapowanie wojewodztw i stopnia jak w data_wages_woj\n",
    "condWoj = [\n",
    "    \"Dolnoślaśkie\",\"Kujawsko-Pomorskie\",\"Lubelskie\",\"Lubuskie\",\n",
    "    \"Mazowieckie\",\"Małopolskie\",\"Opolskie\",\"Podkarpackie\",\n",
    "    \"Podlaskie\",\"Pomorskie\",\"Warmińsko-mazurskie\",\n",
    "    \"Wielkopolskie\",\"Zachodniopomorskie\",\"Łódzkie\",\n",
    "    \"Śląskie\",\"Świętokrzyskie\"\n",
    "]\n",
    "condDegr = [\"1\",\"2\"]\n",
    "\n",
    "#przygotowanie listy warunkow jezeli rzad jest pusty & woj & stopien 32 przypadki\n",
    "condList = [np.logical_and(data_wages_degree_filled.loc[missing,'P_ME_ZAR_P5'],\n",
    "            np.logical_and(data_wages_degree_filled.loc[missing,'P_POZIOM'] == degr,\n",
    "            data_wages_degree_filled.loc[missing,'P_WOJ'] == woj))       \n",
    "             for woj in condWoj for degr in condDegr  ]\n",
    "# lista przypadkow\n",
    "choicelist = data_wages_woj['P_ME_ZAR_P5'].to_list()\n",
    "\n",
    "# zmapowanie tych przypadkow na zbiorze \n",
    "data_wages_degree_filled.loc[missing,\"P_ME_ZAR_P5\"] = np.select(condList, choicelist)"
   ]
  },
  {
   "cell_type": "markdown",
   "metadata": {},
   "source": [
    "Pozostał w ten sposób 1 pusty przypadek"
   ]
  },
  {
   "cell_type": "code",
   "execution_count": 12,
   "metadata": {},
   "outputs": [
    {
     "data": {
      "text/plain": [
       "P_POZIOM                  0\n",
       "P_NAZWA_UCZELNI           0\n",
       "P_KIERUNEK_ID             0\n",
       "P_NAZWA_KIERUNKU_PELNA    0\n",
       "P_FORMA                   0\n",
       "P_DZIEDZINA               0\n",
       "P_WOJ                     0\n",
       "P_N                       0\n",
       "P_ME_ZAR_P5               1\n",
       "dtype: int64"
      ]
     },
     "execution_count": 12,
     "metadata": {},
     "output_type": "execute_result"
    }
   ],
   "source": [
    "# data_wages_degree_filled[data_wages_degree_filled['P_WOJ']==\"Kujawsko-Pomorskie\"].tail()\n",
    "data_wages_degree_filled.isna().sum()"
   ]
  },
  {
   "cell_type": "markdown",
   "metadata": {},
   "source": [
    "# POTEM"
   ]
  },
  {
   "cell_type": "markdown",
   "metadata": {},
   "source": [
    "TODO\n",
    "\n",
    "JAK SIE KSZTALTUJA ZAROBKI wszystkich absolwentow\n",
    "\n",
    "\n",
    "WSKAZNIK - taki stosunek zrobic\n",
    "ZAROBKIKIERUNKU/SREDNIEZAROBKIMAGISTROW"
   ]
  },
  {
   "cell_type": "markdown",
   "metadata": {},
   "source": []
  }
 ],
 "metadata": {
  "interpreter": {
   "hash": "ea26efc0bdfc249078c31f95934f87e71e7874c8fcddf5e1fd7caa793a1b99dc"
  },
  "kernelspec": {
   "display_name": "Python 3.7.9 ('SAD')",
   "language": "python",
   "name": "python3"
  },
  "language_info": {
   "codemirror_mode": {
    "name": "ipython",
    "version": 3
   },
   "file_extension": ".py",
   "mimetype": "text/x-python",
   "name": "python",
   "nbconvert_exporter": "python",
   "pygments_lexer": "ipython3",
   "version": "3.7.9"
  },
  "orig_nbformat": 4
 },
 "nbformat": 4,
 "nbformat_minor": 2
}
